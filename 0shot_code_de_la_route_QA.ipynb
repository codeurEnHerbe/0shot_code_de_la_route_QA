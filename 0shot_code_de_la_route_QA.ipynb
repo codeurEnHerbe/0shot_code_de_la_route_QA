{
 "cells": [
  {
   "cell_type": "markdown",
   "id": "7d9596e8-825c-4d5c-b522-37e1827647d1",
   "metadata": {},
   "source": [
    "### 0 shot QA on french traffic laws\n",
    "\n",
    "In this project I'll try to use the Code de la route (french road code) data and the model CamembertForQa for the question answering.\n",
    "\n",
    "1. I used a pinecone database to store our embeddings representing the content of the code de la route aswell as 'dangvantuan/sentence-camembert-base' sentence transformer to generate the embeddings.\n",
    "2. We then embed our question using the same transformer and compare to the vectors in pinecone using dotproduct and we get the k-neighbor closest ones.\n",
    "3. We hope this vectors represent related law articles to our question.\n",
    "4. We use these vectors as context and feed it with the question to a CamembertForQa model.\n",
    "\r\n"
   ]
  },
  {
   "cell_type": "code",
   "execution_count": null,
   "id": "fa9f2243-3dc7-46c0-89e7-1da87935f30f",
   "metadata": {},
   "outputs": [],
   "source": [
    "pip install sentence_transformers  pinecone-client"
   ]
  },
  {
   "cell_type": "code",
   "execution_count": 2,
   "id": "28570594-5e05-4733-b14a-c62e27488c23",
   "metadata": {},
   "outputs": [],
   "source": [
    "import json\n",
    "\n",
    "#Response from legifrance api to get code de la route data\n",
    "f = open('code_de_la_route_json.json', encoding=\"utf8\")\n",
    "\n",
    "data = json.load(f)"
   ]
  },
  {
   "cell_type": "markdown",
   "id": "9a40b825-afb2-420c-8bac-4d0d54a53113",
   "metadata": {},
   "source": [
    "This is the most important step since we are trying 0shot QA. We need to find a way to split the articles such as:\n",
    " - The sentences are small enough way that the embedding encapsulate their meaning\n",
    " - Not too small so that the meaning is kept in each sentences\n",
    "\n",
    "On my first try, i encoded the whole article into a single vector wich resulted in poor retrieval peformance.\n",
    "I then tried splitting at '.'. But this has 2 problems:\n",
    " - There are alot of '.' that don't represent an end of sentence (ex: \"Par dérogation aux dispositions de l'article L. 121-1\")\n",
    " - Some idea in the article can only be understood when taking the whole context in account and not the sentence alone.\n",
    "   \n",
    "I came up with these potential solutions:\n",
    "\n",
    " - For the first problem, we can just ignore '.' that dont represent end of sentence using a regex\n",
    " - To keep the meaning of the article we could for example encode sentences 2 by 2 with overlaps, to try to keep the meaning in the embedding.\n",
    " - Another solution could be to keep our single sentence representing vectors, but use the whole article they are from, as context for our RAG"
   ]
  },
  {
   "cell_type": "code",
   "execution_count": null,
   "id": "9c812f09-8084-4b84-8a33-9a01f31a9fdb",
   "metadata": {},
   "outputs": [],
   "source": [
    "import re\n",
    "\n",
    "CLEANR = re.compile('<.*?>|\\t|\\n') \n",
    "\n",
    "def cleanhtml(raw_html):\n",
    "    cleantext = re.sub(CLEANR, ' ', raw_html)\n",
    "    return cleantext\n",
    "\n",
    "def split_article(content):\n",
    "    # Utilisation d'une expression régulière pour découper la chaîne\n",
    "    # en gardant les points suivis par un espace puis un nombre ensemble\n",
    "    result = re.split(r'\\. (?=\\D)', content)\n",
    "    \n",
    "    # Nettoyage des espaces en trop autour des éléments\n",
    "    result = [phrase.strip() for phrase in result if phrase.strip()]\n",
    "    \n",
    "    # Affichage du tableau résultant\n",
    "    return result\n",
    "\n",
    "\n",
    "def process_row(row_data, chapitre, articleNum): \n",
    "    clean_content = cleanhtml(row_data['content'])\n",
    "    #Split sentences in the article for better embedding on pinecone\n",
    "    split_content = split_article(clean_content)\n",
    "    for sentence in split_content:\n",
    "        processed_data.append({'chapitreNom': chapitre, 'articleNum': articleNum, 'content': sentence})\n",
    "                \n",
    "processed_data = []\n",
    "#Process data from code de la route\n",
    "for partie in data['sections']:\n",
    "    for livre in partie['sections']:\n",
    "        for titre in livre['sections']:\n",
    "            for chapitre in titre['sections']:\n",
    "                if len(chapitre['articles']) == 0:\n",
    "                    for section in chapitre['sections']:\n",
    "                        for articleIn in section['articles']:\n",
    "                            print(articleIn['num'])\n",
    "                            process_row(articleIn, chapitre['title'], articleIn['num'])\n",
    "                else: \n",
    "                    for article in chapitre['articles']:\n",
    "                        process_row(article, chapitre['title'], article['num'])\n"
   ]
  },
  {
   "cell_type": "code",
   "execution_count": 114,
   "id": "899740c3-7e2d-42c4-984a-c4fa92d2e4ad",
   "metadata": {},
   "outputs": [
    {
     "data": {
      "text/html": [
       "<div>\n",
       "<style scoped>\n",
       "    .dataframe tbody tr th:only-of-type {\n",
       "        vertical-align: middle;\n",
       "    }\n",
       "\n",
       "    .dataframe tbody tr th {\n",
       "        vertical-align: top;\n",
       "    }\n",
       "\n",
       "    .dataframe thead th {\n",
       "        text-align: right;\n",
       "    }\n",
       "</style>\n",
       "<table border=\"1\" class=\"dataframe\">\n",
       "  <thead>\n",
       "    <tr style=\"text-align: right;\">\n",
       "      <th></th>\n",
       "      <th>chapitreNom</th>\n",
       "      <th>articleNum</th>\n",
       "      <th>content</th>\n",
       "    </tr>\n",
       "  </thead>\n",
       "  <tbody>\n",
       "    <tr>\n",
       "      <th>0</th>\n",
       "      <td>Chapitre 1er : Responsabilité pénale.</td>\n",
       "      <td>L121-1</td>\n",
       "      <td>Le conducteur d'un véhicule est responsable pé...</td>\n",
       "    </tr>\n",
       "    <tr>\n",
       "      <th>1</th>\n",
       "      <td>Chapitre 1er : Responsabilité pénale.</td>\n",
       "      <td>L121-1</td>\n",
       "      <td>Toutefois, lorsque le conducteur a agi en qual...</td>\n",
       "    </tr>\n",
       "    <tr>\n",
       "      <th>2</th>\n",
       "      <td>Chapitre 1er : Responsabilité pénale.</td>\n",
       "      <td>L121-2</td>\n",
       "      <td>Par dérogation aux dispositions de  l'article ...</td>\n",
       "    </tr>\n",
       "    <tr>\n",
       "      <th>3</th>\n",
       "      <td>Chapitre 1er : Responsabilité pénale.</td>\n",
       "      <td>L121-2</td>\n",
       "      <td>Dans le cas où le véhicule était loué à un tie...</td>\n",
       "    </tr>\n",
       "    <tr>\n",
       "      <th>4</th>\n",
       "      <td>Chapitre 1er : Responsabilité pénale.</td>\n",
       "      <td>L121-2</td>\n",
       "      <td>Dans le cas où le véhicule a été cédé, cette r...</td>\n",
       "    </tr>\n",
       "    <tr>\n",
       "      <th>...</th>\n",
       "      <td>...</td>\n",
       "      <td>...</td>\n",
       "      <td>...</td>\n",
       "    </tr>\n",
       "    <tr>\n",
       "      <th>4787</th>\n",
       "      <td>Chapitre 1er : Responsabilité pénale</td>\n",
       "      <td>A121-3</td>\n",
       "      <td>antai</td>\n",
       "    </tr>\n",
       "    <tr>\n",
       "      <th>4788</th>\n",
       "      <td>Chapitre 1er : Responsabilité pénale</td>\n",
       "      <td>A121-3</td>\n",
       "      <td>fr ” la copie du certificat d'immatriculation ...</td>\n",
       "    </tr>\n",
       "    <tr>\n",
       "      <th>4789</th>\n",
       "      <td>Chapitre 1er : Responsabilité pénale</td>\n",
       "      <td>A121-3</td>\n",
       "      <td>IV.- Dans tous les cas, un accusé d'enregistre...</td>\n",
       "    </tr>\n",
       "    <tr>\n",
       "      <th>4790</th>\n",
       "      <td>Chapitre 1er : Responsabilité pénale</td>\n",
       "      <td>A121-3</td>\n",
       "      <td>Ce document peut être téléchargé ou imprimé pa...</td>\n",
       "    </tr>\n",
       "    <tr>\n",
       "      <th>4791</th>\n",
       "      <td>Chapitre 3 : Dispositions applicables en Nouve...</td>\n",
       "      <td>A143-1</td>\n",
       "      <td>Sont applicables en Nouvelle-Calédonie, en Pol...</td>\n",
       "    </tr>\n",
       "  </tbody>\n",
       "</table>\n",
       "<p>4792 rows × 3 columns</p>\n",
       "</div>"
      ],
      "text/plain": [
       "                                            chapitreNom articleNum  \\\n",
       "0                 Chapitre 1er : Responsabilité pénale.     L121-1   \n",
       "1                 Chapitre 1er : Responsabilité pénale.     L121-1   \n",
       "2                 Chapitre 1er : Responsabilité pénale.     L121-2   \n",
       "3                 Chapitre 1er : Responsabilité pénale.     L121-2   \n",
       "4                 Chapitre 1er : Responsabilité pénale.     L121-2   \n",
       "...                                                 ...        ...   \n",
       "4787               Chapitre 1er : Responsabilité pénale     A121-3   \n",
       "4788               Chapitre 1er : Responsabilité pénale     A121-3   \n",
       "4789               Chapitre 1er : Responsabilité pénale     A121-3   \n",
       "4790               Chapitre 1er : Responsabilité pénale     A121-3   \n",
       "4791  Chapitre 3 : Dispositions applicables en Nouve...     A143-1   \n",
       "\n",
       "                                                content  \n",
       "0     Le conducteur d'un véhicule est responsable pé...  \n",
       "1     Toutefois, lorsque le conducteur a agi en qual...  \n",
       "2     Par dérogation aux dispositions de  l'article ...  \n",
       "3     Dans le cas où le véhicule était loué à un tie...  \n",
       "4     Dans le cas où le véhicule a été cédé, cette r...  \n",
       "...                                                 ...  \n",
       "4787                                              antai  \n",
       "4788  fr ” la copie du certificat d'immatriculation ...  \n",
       "4789  IV.- Dans tous les cas, un accusé d'enregistre...  \n",
       "4790  Ce document peut être téléchargé ou imprimé pa...  \n",
       "4791  Sont applicables en Nouvelle-Calédonie, en Pol...  \n",
       "\n",
       "[4792 rows x 3 columns]"
      ]
     },
     "execution_count": 114,
     "metadata": {},
     "output_type": "execute_result"
    }
   ],
   "source": [
    "import pandas as pd\n",
    "\n",
    "df = pd.DataFrame(processed_data)\n",
    "df"
   ]
  },
  {
   "cell_type": "code",
   "execution_count": 116,
   "id": "6de6321f-9ad1-4824-8a7b-09eb294313e5",
   "metadata": {},
   "outputs": [],
   "source": [
    "from sentence_transformers import SentenceTransformer\n",
    "import torch\n",
    "\n",
    "device = 'cuda' if torch.cuda.is_available() else 'cpu'\n",
    "\n",
    "retriever = SentenceTransformer(\n",
    "    \"dangvantuan/sentence-camembert-base\",\n",
    "    device=device\n",
    ")"
   ]
  },
  {
   "cell_type": "code",
   "execution_count": 76,
   "id": "fda2b38a-ce8c-439d-a453-6ebd399b2fe2",
   "metadata": {},
   "outputs": [
    {
     "data": {
      "text/plain": [
       "SentenceTransformer(\n",
       "  (0): Transformer({'max_seq_length': 128, 'do_lower_case': False}) with Transformer model: CamembertModel \n",
       "  (1): Pooling({'word_embedding_dimension': 768, 'pooling_mode_cls_token': False, 'pooling_mode_mean_tokens': True, 'pooling_mode_max_tokens': False, 'pooling_mode_mean_sqrt_len_tokens': False, 'pooling_mode_weightedmean_tokens': False, 'pooling_mode_lasttoken': False, 'include_prompt': True})\n",
       ")"
      ]
     },
     "execution_count": 76,
     "metadata": {},
     "output_type": "execute_result"
    }
   ],
   "source": [
    "retriever"
   ]
  },
  {
   "cell_type": "code",
   "execution_count": 117,
   "id": "67658274-6b8a-4013-af8d-66a828400552",
   "metadata": {},
   "outputs": [],
   "source": [
    "from pinecone import Pinecone, ServerlessSpec\n",
    "pc = Pinecone(api_key=\"<<PINECONE_API_KEY>>\")\n"
   ]
  },
  {
   "cell_type": "code",
   "execution_count": 118,
   "id": "66a6e625-5f6c-45ce-a137-5c69f4fcb13b",
   "metadata": {},
   "outputs": [],
   "source": [
    "index_name = \"traffic-question-answering-2\"\n",
    "\n",
    "#Need to be the same dimension as the output of our sentence transformer\n",
    "if index_name not in pc.list_indexes():\n",
    "    pc.create_index(\n",
    "        index_name,\n",
    "        dimension=768,\n",
    "        metric='dotproduct',\n",
    "        spec=ServerlessSpec(\n",
    "            cloud=\"aws\",\n",
    "            region=\"us-east-1\"\n",
    "        ) \n",
    "    )\n",
    "index = pc.Index(index_name)"
   ]
  },
  {
   "cell_type": "code",
   "execution_count": 119,
   "id": "6c0ddeb4-0aa2-4c74-9ce3-5d455abe6294",
   "metadata": {},
   "outputs": [
    {
     "name": "stderr",
     "output_type": "stream",
     "text": [
      "100%|██████████| 75/75 [00:43<00:00,  1.71it/s]\n"
     ]
    },
    {
     "data": {
      "text/plain": [
       "{'dimension': 768,\n",
       " 'index_fullness': 0.0,\n",
       " 'namespaces': {'': {'vector_count': 4736}},\n",
       " 'total_vector_count': 4736}"
      ]
     },
     "execution_count": 119,
     "metadata": {},
     "output_type": "execute_result"
    }
   ],
   "source": [
    "\n",
    "from tqdm.auto import tqdm\n",
    "\n",
    "# we will use batches of 1\n",
    "batch_size = 64\n",
    "\n",
    "for i in tqdm(range(0, len(df), batch_size)):\n",
    "    # find end of batch\n",
    "    i_end = min(i+batch_size, len(df))\n",
    "    # extract batch\n",
    "    batch = df.iloc[i:i_end]\n",
    "    # generate embeddings for batch\n",
    "    emb = retriever.encode(batch[\"content\"].tolist()).tolist()\n",
    "    # get metadata\n",
    "    meta = batch.to_dict(orient=\"records\")\n",
    "    # create unique IDs\n",
    "    ids = [f\"{idx}\" for idx in range(i, i_end)]\n",
    "    # add all to upsert list\n",
    "    to_upsert = list(zip(ids, emb, meta))\n",
    "    # upsert/insert these records to pinecone\n",
    "    _ = index.upsert(vectors=to_upsert)\n",
    "\n",
    "# check that we have all vectors in index\n",
    "index.describe_index_stats()"
   ]
  },
  {
   "cell_type": "code",
   "execution_count": 120,
   "id": "b38f0077-a7a2-4f12-b6b0-1477f5c0c463",
   "metadata": {},
   "outputs": [],
   "source": [
    "from transformers import AutoTokenizer, CamembertForQuestionAnswering\n",
    "\n",
    "# load bart tokenizer and model from huggingface\n",
    "tokenizer = AutoTokenizer.from_pretrained('CATIE-AQ/QAmembert')\n",
    "model = CamembertForQuestionAnswering.from_pretrained('CATIE-AQ/QAmembert')"
   ]
  },
  {
   "cell_type": "code",
   "execution_count": 121,
   "id": "7ed324b0-e6d7-48e8-84a1-00f44d1f1c62",
   "metadata": {},
   "outputs": [],
   "source": [
    "def query_pinecone(query, top_k):\n",
    "    # generate embeddings for the query\n",
    "    xq = retriever.encode([query]).tolist()\n",
    "    # search pinecone index for context passage with the answer\n",
    "    xc = index.query(vector=xq, top_k=top_k, include_metadata=True)\n",
    "    return xc\n",
    "\n",
    "def format_query(query, context):\n",
    "    # extract passage_text from Pinecone search result and add the tag\n",
    "    context = [f\" {m['metadata']['content']}\" for m in context]\n",
    "    # concatinate all context passages\n",
    "    context = \" \".join(context)\n",
    "    # contcatinate the query and context passages\n",
    "\n",
    "    return query, context"
   ]
  },
  {
   "cell_type": "code",
   "execution_count": 122,
   "id": "5ce56b67-4338-4552-9fa8-6b929d40628d",
   "metadata": {},
   "outputs": [],
   "source": [
    "def format_query_get_article(query, context):\n",
    "    article_nums = [f\"{m['metadata']['articleNum']}\" for m in context]\n",
    "    article_keys = list(set(article_nums))\n",
    "    articles = [ df.loc[df['articleNum'] == key]['content'].str.cat(sep=' ') for key in article_keys ]\n",
    "    context = \"\".join(articles)\n",
    "    return query, context"
   ]
  },
  {
   "cell_type": "code",
   "execution_count": 123,
   "id": "e1d6b6d6-7fbd-48f0-b238-d072652dcbba",
   "metadata": {},
   "outputs": [],
   "source": [
    "from transformers import pipeline\n",
    "\n",
    "#Using pretrained Camembert model for QUestion answering\n",
    "qa_engine = pipeline(\n",
    "    \"question-answering\",\n",
    "    model=\"CATIE-AQ/QAmembert\",\n",
    "    tokenizer=\"CATIE-AQ/QAmembert\"\n",
    ")\n",
    "\n",
    "def generate_answer(query, context):\n",
    "    result = qa_engine(\n",
    "        context=context,\n",
    "        question=query\n",
    "    )\n",
    "    return result"
   ]
  },
  {
   "cell_type": "code",
   "execution_count": 124,
   "id": "5d35ed81-549c-425c-aa16-f59ebc089b1b",
   "metadata": {},
   "outputs": [
    {
     "data": {
      "text/plain": [
       "{'matches': [{'id': '4140',\n",
       "              'metadata': {'articleNum': 'R414-4',\n",
       "                           'chapitreNom': 'Chapitre IV : Croisement et '\n",
       "                                          'dépassement',\n",
       "                           'content': '- Avant de dépasser, tout conducteur '\n",
       "                                      \"doit s'assurer qu'il peut le faire sans \"\n",
       "                                      'danger'},\n",
       "              'score': 5.13207722,\n",
       "              'values': []},\n",
       "             {'id': '1065',\n",
       "              'metadata': {'articleNum': 'R211-1',\n",
       "                           'chapitreNom': 'Chapitre Ier : Formation à la '\n",
       "                                          'conduite et à la sécurité routière',\n",
       "                           'content': 'La date limite de validité est inscrite '\n",
       "                                      'sur le titre de conduite'},\n",
       "              'score': 5.02681398,\n",
       "              'values': []},\n",
       "             {'id': '82',\n",
       "              'metadata': {'articleNum': 'L211-5',\n",
       "                           'chapitreNom': 'Chapitre 1er : Formation à la '\n",
       "                                          'conduite et à la sécurité routière.',\n",
       "                           'content': 'La conduite encadrée est accessible à '\n",
       "                                      \"partir de l'âge de seize ans aux élèves \"\n",
       "                                      'ayant validé la formation préalable à '\n",
       "                                      \"l'obtention du permis de conduire des \"\n",
       "                                      'véhicules légers ou des véhicules du '\n",
       "                                      'groupe lourd'},\n",
       "              'score': 4.49024248,\n",
       "              'values': []}],\n",
       " 'namespace': '',\n",
       " 'usage': {'read_units': 6}}"
      ]
     },
     "execution_count": 124,
     "metadata": {},
     "output_type": "execute_result"
    }
   ],
   "source": [
    "query = \"Quel est l'âge minimum faire la conduite encadrée ?\"\n",
    "result = query_pinecone(query, top_k=3)\n",
    "\n",
    "#Get related conext from pinecone database\n",
    "query, context = format_query_get_article(query, result[\"matches\"])\n",
    "\n",
    "result"
   ]
  },
  {
   "cell_type": "code",
   "execution_count": 125,
   "id": "4a403e17-7297-4fea-8e41-5db747c5c90e",
   "metadata": {},
   "outputs": [
    {
     "name": "stdout",
     "output_type": "stream",
     "text": [
      "seize ans\n",
      "cinq ans\n"
     ]
    }
   ],
   "source": [
    "#1st question\n",
    "print(generate_answer(query, context)['answer'])\n",
    "\n",
    "#2nd question\n",
    "query = \"Depuis combien de temps doit-on être titulaire pour être accompagnateur de la conduite supervisée ?\"\n",
    "result = query_pinecone(query, top_k=3)\n",
    "query, context = format_query_get_article(query, result[\"matches\"])\n",
    "print(generate_answer(query, context)['answer'])"
   ]
  },
  {
   "cell_type": "markdown",
   "id": "da8b2ce6-19f4-45f4-8497-d067381395d2",
   "metadata": {},
   "source": [
    "Using the articles from the 3 vectors closest to the question in the database.\n",
    "We can observe 2 limitations\n",
    "\n",
    "1. Our sentence transformer creating our embedding in pinecone fails to return context properly when articles are mentionned in each others.\n",
    "   This is likely due to the way the code relations between article are abstractly described. Wich is probably something our sentence transformer is not well tuned for\n",
    "2. The CATIE-AQ/QAmembert model manages to retrieve the informations in the context but the output is quite small and doesn't allow for a detailed response\n",
    "\n",
    "In the example above we ask 2 questions\n",
    "\n",
    "1. What is the minimum age to do accompanied driving\n",
    "2. How much year of driving experience is needed supervise accompanied driving \n",
    "\n",
    "The model answer correctly for these 2 questions\n"
   ]
  },
  {
   "cell_type": "code",
   "execution_count": 126,
   "id": "1b271e98-3328-4fa2-ac8b-c7b15a492935",
   "metadata": {},
   "outputs": [
    {
     "data": {
      "text/plain": [
       "\"I.-L'apprentissage dit anticipé de la conduite est un apprentissage particulier dispensé en vue de l'obtention de la catégorie B du permis de conduire Cet apprentissage ne peut être effectué après annulation ou invalidation du permis de conduire II.-Il comprend deux périodes :   1° Une période de formation initiale dans un établissement ou une association agréés au titre de l'article  L. 213-1  ou  L. 213-7 Cette formation initiale est validée si l'élève conducteur a réussi l'épreuve théorique générale de l'examen du permis de conduire ou détient une catégorie du permis de conduire obtenue depuis cinq ans au plus, et s'il réussit l'évaluation réalisée par l'enseignant de la conduite à la fin de cette période ;   2° Une période d'apprentissage en conduite accompagnée sous la surveillance constante et directe d'un accompagnateur titulaire depuis au moins cinq ans sans interruption du permis de conduire de la catégorie B Cette période commence par un rendez-vous pédagogique préalable entre l'enseignant de la conduite, l'accompagnateur et l'élève conducteur Deux autres rendez-vous pédagogiques doivent avoir lieu au cours de cette période, pendant laquelle l'élève conducteur doit parcourir une distance minimale pendant une durée minimale, précisées par arrêté du   ministre chargé de la sécurité routière III.-Les conditions dans lesquelles les établissements d'enseignement de la conduite peuvent proposer et encadrer un apprentissage anticipé de la conduite sont fixées par arrêté du   ministre chargé de la sécurité routière\""
      ]
     },
     "execution_count": 126,
     "metadata": {},
     "output_type": "execute_result"
    }
   ],
   "source": [
    "df.loc[df['articleNum'] == 'R211-5']['content'].str.cat(sep=' ') "
   ]
  }
 ],
 "metadata": {
  "kernelspec": {
   "display_name": "Python 3 (ipykernel)",
   "language": "python",
   "name": "python3"
  },
  "language_info": {
   "codemirror_mode": {
    "name": "ipython",
    "version": 3
   },
   "file_extension": ".py",
   "mimetype": "text/x-python",
   "name": "python",
   "nbconvert_exporter": "python",
   "pygments_lexer": "ipython3",
   "version": "3.11.9"
  }
 },
 "nbformat": 4,
 "nbformat_minor": 5
}
