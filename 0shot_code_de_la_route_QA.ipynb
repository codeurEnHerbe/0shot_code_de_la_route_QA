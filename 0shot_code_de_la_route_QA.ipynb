{
 "cells": [
  {
   "cell_type": "code",
   "execution_count": 9,
   "id": "fa9f2243-3dc7-46c0-89e7-1da87935f30f",
   "metadata": {},
   "outputs": [
    {
     "name": "stdout",
     "output_type": "stream",
     "text": [
      "Requirement already satisfied: sentence_transformers in c:\\users\\rafael\\anaconda3\\envs\\trainer\\lib\\site-packages (2.7.0)\n",
      "Requirement already satisfied: transformers<5.0.0,>=4.34.0 in c:\\users\\rafael\\anaconda3\\envs\\trainer\\lib\\site-packages (from sentence_transformers) (4.40.1)\n",
      "Requirement already satisfied: tqdm in c:\\users\\rafael\\anaconda3\\envs\\trainer\\lib\\site-packages (from sentence_transformers) (4.66.2)\n",
      "Requirement already satisfied: torch>=1.11.0 in c:\\users\\rafael\\anaconda3\\envs\\trainer\\lib\\site-packages (from sentence_transformers) (2.3.0+cu118)\n",
      "Requirement already satisfied: numpy in c:\\users\\rafael\\anaconda3\\envs\\trainer\\lib\\site-packages (from sentence_transformers) (1.26.4)\n",
      "Requirement already satisfied: scikit-learn in c:\\users\\rafael\\anaconda3\\envs\\trainer\\lib\\site-packages (from sentence_transformers) (1.4.2)\n",
      "Requirement already satisfied: scipy in c:\\users\\rafael\\anaconda3\\envs\\trainer\\lib\\site-packages (from sentence_transformers) (1.13.0)\n",
      "Requirement already satisfied: huggingface-hub>=0.15.1 in c:\\users\\rafael\\anaconda3\\envs\\trainer\\lib\\site-packages (from sentence_transformers) (0.22.2)\n",
      "Requirement already satisfied: Pillow in c:\\users\\rafael\\anaconda3\\envs\\trainer\\lib\\site-packages (from sentence_transformers) (10.3.0)\n",
      "Requirement already satisfied: filelock in c:\\users\\rafael\\anaconda3\\envs\\trainer\\lib\\site-packages (from huggingface-hub>=0.15.1->sentence_transformers) (3.13.4)\n",
      "Requirement already satisfied: fsspec>=2023.5.0 in c:\\users\\rafael\\anaconda3\\envs\\trainer\\lib\\site-packages (from huggingface-hub>=0.15.1->sentence_transformers) (2024.3.1)\n",
      "Requirement already satisfied: packaging>=20.9 in c:\\users\\rafael\\anaconda3\\envs\\trainer\\lib\\site-packages (from huggingface-hub>=0.15.1->sentence_transformers) (23.2)\n",
      "Requirement already satisfied: pyyaml>=5.1 in c:\\users\\rafael\\anaconda3\\envs\\trainer\\lib\\site-packages (from huggingface-hub>=0.15.1->sentence_transformers) (6.0.1)\n",
      "Requirement already satisfied: requests in c:\\users\\rafael\\anaconda3\\envs\\trainer\\lib\\site-packages (from huggingface-hub>=0.15.1->sentence_transformers) (2.31.0)\n",
      "Requirement already satisfied: typing-extensions>=3.7.4.3 in c:\\users\\rafael\\anaconda3\\envs\\trainer\\lib\\site-packages (from huggingface-hub>=0.15.1->sentence_transformers) (4.9.0)\n",
      "Requirement already satisfied: sympy in c:\\users\\rafael\\anaconda3\\envs\\trainer\\lib\\site-packages (from torch>=1.11.0->sentence_transformers) (1.12)\n",
      "Requirement already satisfied: networkx in c:\\users\\rafael\\anaconda3\\envs\\trainer\\lib\\site-packages (from torch>=1.11.0->sentence_transformers) (3.3)\n",
      "Requirement already satisfied: jinja2 in c:\\users\\rafael\\anaconda3\\envs\\trainer\\lib\\site-packages (from torch>=1.11.0->sentence_transformers) (3.1.3)\n",
      "Requirement already satisfied: mkl<=2021.4.0,>=2021.1.1 in c:\\users\\rafael\\anaconda3\\envs\\trainer\\lib\\site-packages (from torch>=1.11.0->sentence_transformers) (2021.4.0)\n",
      "Requirement already satisfied: colorama in c:\\users\\rafael\\anaconda3\\envs\\trainer\\lib\\site-packages (from tqdm->sentence_transformers) (0.4.6)\n",
      "Requirement already satisfied: regex!=2019.12.17 in c:\\users\\rafael\\anaconda3\\envs\\trainer\\lib\\site-packages (from transformers<5.0.0,>=4.34.0->sentence_transformers) (2024.4.16)\n",
      "Requirement already satisfied: tokenizers<0.20,>=0.19 in c:\\users\\rafael\\anaconda3\\envs\\trainer\\lib\\site-packages (from transformers<5.0.0,>=4.34.0->sentence_transformers) (0.19.1)\n",
      "Requirement already satisfied: safetensors>=0.4.1 in c:\\users\\rafael\\anaconda3\\envs\\trainer\\lib\\site-packages (from transformers<5.0.0,>=4.34.0->sentence_transformers) (0.4.3)\n",
      "Requirement already satisfied: joblib>=1.2.0 in c:\\users\\rafael\\anaconda3\\envs\\trainer\\lib\\site-packages (from scikit-learn->sentence_transformers) (1.4.0)\n",
      "Requirement already satisfied: threadpoolctl>=2.0.0 in c:\\users\\rafael\\anaconda3\\envs\\trainer\\lib\\site-packages (from scikit-learn->sentence_transformers) (3.4.0)\n",
      "Requirement already satisfied: intel-openmp==2021.* in c:\\users\\rafael\\anaconda3\\envs\\trainer\\lib\\site-packages (from mkl<=2021.4.0,>=2021.1.1->torch>=1.11.0->sentence_transformers) (2021.4.0)\n",
      "Requirement already satisfied: tbb==2021.* in c:\\users\\rafael\\anaconda3\\envs\\trainer\\lib\\site-packages (from mkl<=2021.4.0,>=2021.1.1->torch>=1.11.0->sentence_transformers) (2021.12.0)\n",
      "Requirement already satisfied: MarkupSafe>=2.0 in c:\\users\\rafael\\anaconda3\\envs\\trainer\\lib\\site-packages (from jinja2->torch>=1.11.0->sentence_transformers) (2.1.3)\n",
      "Requirement already satisfied: charset-normalizer<4,>=2 in c:\\users\\rafael\\anaconda3\\envs\\trainer\\lib\\site-packages (from requests->huggingface-hub>=0.15.1->sentence_transformers) (2.0.4)\n",
      "Requirement already satisfied: idna<4,>=2.5 in c:\\users\\rafael\\anaconda3\\envs\\trainer\\lib\\site-packages (from requests->huggingface-hub>=0.15.1->sentence_transformers) (3.4)\n",
      "Requirement already satisfied: urllib3<3,>=1.21.1 in c:\\users\\rafael\\anaconda3\\envs\\trainer\\lib\\site-packages (from requests->huggingface-hub>=0.15.1->sentence_transformers) (2.1.0)\n",
      "Requirement already satisfied: certifi>=2017.4.17 in c:\\users\\rafael\\anaconda3\\envs\\trainer\\lib\\site-packages (from requests->huggingface-hub>=0.15.1->sentence_transformers) (2024.2.2)\n",
      "Requirement already satisfied: mpmath>=0.19 in c:\\users\\rafael\\anaconda3\\envs\\trainer\\lib\\site-packages (from sympy->torch>=1.11.0->sentence_transformers) (1.3.0)\n",
      "Note: you may need to restart the kernel to use updated packages.\n"
     ]
    }
   ],
   "source": [
    "pip install sentence_transformers"
   ]
  },
  {
   "cell_type": "code",
   "execution_count": 21,
   "id": "324c57fd-ee02-4996-9667-d8e0a49f7c5b",
   "metadata": {},
   "outputs": [
    {
     "name": "stdout",
     "output_type": "stream",
     "text": [
      "Collecting pinecone-client\n",
      "  Downloading pinecone_client-4.0.0-py3-none-any.whl.metadata (16 kB)\n",
      "Requirement already satisfied: certifi>=2019.11.17 in c:\\users\\rafael\\anaconda3\\envs\\trainer\\lib\\site-packages (from pinecone-client) (2024.2.2)\n",
      "Requirement already satisfied: tqdm>=4.64.1 in c:\\users\\rafael\\anaconda3\\envs\\trainer\\lib\\site-packages (from pinecone-client) (4.66.2)\n",
      "Requirement already satisfied: typing-extensions>=3.7.4 in c:\\users\\rafael\\anaconda3\\envs\\trainer\\lib\\site-packages (from pinecone-client) (4.9.0)\n",
      "Requirement already satisfied: urllib3>=1.26.0 in c:\\users\\rafael\\anaconda3\\envs\\trainer\\lib\\site-packages (from pinecone-client) (2.1.0)\n",
      "Requirement already satisfied: colorama in c:\\users\\rafael\\anaconda3\\envs\\trainer\\lib\\site-packages (from tqdm>=4.64.1->pinecone-client) (0.4.6)\n",
      "Downloading pinecone_client-4.0.0-py3-none-any.whl (214 kB)\n",
      "   ---------------------------------------- 0.0/214.5 kB ? eta -:--:--\n",
      "   ----- --------------------------------- 30.7/214.5 kB 660.6 kB/s eta 0:00:01\n",
      "   ---------------------------------------- 214.5/214.5 kB 2.2 MB/s eta 0:00:00\n",
      "Installing collected packages: pinecone-client\n",
      "Successfully installed pinecone-client-4.0.0\n",
      "Note: you may need to restart the kernel to use updated packages.\n"
     ]
    }
   ],
   "source": [
    "pip install pinecone-client"
   ]
  },
  {
   "cell_type": "code",
   "execution_count": 1,
   "id": "28570594-5e05-4733-b14a-c62e27488c23",
   "metadata": {},
   "outputs": [],
   "source": [
    "import json\n",
    "\n",
    "f = open('code_de_la_route_json.json', encoding=\"utf8\")\n",
    "\n",
    "data = json.load(f)"
   ]
  },
  {
   "cell_type": "code",
   "execution_count": 2,
   "id": "9c812f09-8084-4b84-8a33-9a01f31a9fdb",
   "metadata": {},
   "outputs": [],
   "source": [
    "import re\n",
    "\n",
    "CLEANR = re.compile('<.*?>|\\t|\\n') \n",
    "\n",
    "def cleanhtml(raw_html):\n",
    "    cleantext = re.sub(CLEANR, ' ', raw_html)\n",
    "    return cleantext\n",
    "    \n",
    "processed_data = []\n",
    "#Process data from code de la route\n",
    "for partie in data['sections']:\n",
    "    for livre in partie['sections']:\n",
    "        for titre in livre['sections']:\n",
    "            for chapitre in titre['sections']:\n",
    "                for article in chapitre['articles']:\n",
    "                    processed_data.append({'chapitreNom': chapitre['title'], 'articleNum': article['num'], 'content': cleanhtml(article['content'])})\n",
    "                \n"
   ]
  },
  {
   "cell_type": "code",
   "execution_count": 3,
   "id": "899740c3-7e2d-42c4-984a-c4fa92d2e4ad",
   "metadata": {},
   "outputs": [
    {
     "data": {
      "text/html": [
       "<div>\n",
       "<style scoped>\n",
       "    .dataframe tbody tr th:only-of-type {\n",
       "        vertical-align: middle;\n",
       "    }\n",
       "\n",
       "    .dataframe tbody tr th {\n",
       "        vertical-align: top;\n",
       "    }\n",
       "\n",
       "    .dataframe thead th {\n",
       "        text-align: right;\n",
       "    }\n",
       "</style>\n",
       "<table border=\"1\" class=\"dataframe\">\n",
       "  <thead>\n",
       "    <tr style=\"text-align: right;\">\n",
       "      <th></th>\n",
       "      <th>chapitreNom</th>\n",
       "      <th>articleNum</th>\n",
       "      <th>content</th>\n",
       "    </tr>\n",
       "  </thead>\n",
       "  <tbody>\n",
       "    <tr>\n",
       "      <th>0</th>\n",
       "      <td>Chapitre 1er : Responsabilité pénale.</td>\n",
       "      <td>L121-1</td>\n",
       "      <td>Le conducteur d'un véhicule est responsab...</td>\n",
       "    </tr>\n",
       "    <tr>\n",
       "      <th>1</th>\n",
       "      <td>Chapitre 1er : Responsabilité pénale.</td>\n",
       "      <td>L121-2</td>\n",
       "      <td>Par dérogation aux dispositions de  l'article...</td>\n",
       "    </tr>\n",
       "    <tr>\n",
       "      <th>2</th>\n",
       "      <td>Chapitre 1er : Responsabilité pénale.</td>\n",
       "      <td>L121-3</td>\n",
       "      <td>Par dérogation aux dispositions de l'article ...</td>\n",
       "    </tr>\n",
       "    <tr>\n",
       "      <th>3</th>\n",
       "      <td>Chapitre 1er : Responsabilité pénale.</td>\n",
       "      <td>L121-4</td>\n",
       "      <td>Sauf cas de versement immédiat d'une amende f...</td>\n",
       "    </tr>\n",
       "    <tr>\n",
       "      <th>4</th>\n",
       "      <td>Chapitre 1er : Responsabilité pénale.</td>\n",
       "      <td>L121-4-1</td>\n",
       "      <td>Lorsqu'un avis d'amende forfaitaire majorée c...</td>\n",
       "    </tr>\n",
       "    <tr>\n",
       "      <th>...</th>\n",
       "      <td>...</td>\n",
       "      <td>...</td>\n",
       "      <td>...</td>\n",
       "    </tr>\n",
       "    <tr>\n",
       "      <th>489</th>\n",
       "      <td>Chapitre 1er : Responsabilité pénale</td>\n",
       "      <td>A121-1</td>\n",
       "      <td>Les informations que le représentant légal ...</td>\n",
       "    </tr>\n",
       "    <tr>\n",
       "      <th>490</th>\n",
       "      <td>Chapitre 1er : Responsabilité pénale</td>\n",
       "      <td>A121-1-1</td>\n",
       "      <td>Les informations que la personne physique aya...</td>\n",
       "    </tr>\n",
       "    <tr>\n",
       "      <th>491</th>\n",
       "      <td>Chapitre 1er : Responsabilité pénale</td>\n",
       "      <td>A121-2</td>\n",
       "      <td>I.- Lorsque ces informations sont adressées...</td>\n",
       "    </tr>\n",
       "    <tr>\n",
       "      <th>492</th>\n",
       "      <td>Chapitre 1er : Responsabilité pénale</td>\n",
       "      <td>A121-3</td>\n",
       "      <td>I.- Lorsque ces informations sont adressées...</td>\n",
       "    </tr>\n",
       "    <tr>\n",
       "      <th>493</th>\n",
       "      <td>Chapitre 3 : Dispositions applicables en Nouve...</td>\n",
       "      <td>A143-1</td>\n",
       "      <td>Sont applicables en Nouvelle-Calédonie, en ...</td>\n",
       "    </tr>\n",
       "  </tbody>\n",
       "</table>\n",
       "<p>494 rows × 3 columns</p>\n",
       "</div>"
      ],
      "text/plain": [
       "                                           chapitreNom articleNum  \\\n",
       "0                Chapitre 1er : Responsabilité pénale.     L121-1   \n",
       "1                Chapitre 1er : Responsabilité pénale.     L121-2   \n",
       "2                Chapitre 1er : Responsabilité pénale.     L121-3   \n",
       "3                Chapitre 1er : Responsabilité pénale.     L121-4   \n",
       "4                Chapitre 1er : Responsabilité pénale.   L121-4-1   \n",
       "..                                                 ...        ...   \n",
       "489               Chapitre 1er : Responsabilité pénale     A121-1   \n",
       "490               Chapitre 1er : Responsabilité pénale   A121-1-1   \n",
       "491               Chapitre 1er : Responsabilité pénale     A121-2   \n",
       "492               Chapitre 1er : Responsabilité pénale     A121-3   \n",
       "493  Chapitre 3 : Dispositions applicables en Nouve...     A143-1   \n",
       "\n",
       "                                               content  \n",
       "0         Le conducteur d'un véhicule est responsab...  \n",
       "1     Par dérogation aux dispositions de  l'article...  \n",
       "2     Par dérogation aux dispositions de l'article ...  \n",
       "3     Sauf cas de versement immédiat d'une amende f...  \n",
       "4     Lorsqu'un avis d'amende forfaitaire majorée c...  \n",
       "..                                                 ...  \n",
       "489     Les informations que le représentant légal ...  \n",
       "490   Les informations que la personne physique aya...  \n",
       "491     I.- Lorsque ces informations sont adressées...  \n",
       "492     I.- Lorsque ces informations sont adressées...  \n",
       "493     Sont applicables en Nouvelle-Calédonie, en ...  \n",
       "\n",
       "[494 rows x 3 columns]"
      ]
     },
     "execution_count": 3,
     "metadata": {},
     "output_type": "execute_result"
    }
   ],
   "source": [
    "import pandas as pd\n",
    "\n",
    "df = pd.DataFrame(processed_data)\n",
    "df"
   ]
  },
  {
   "cell_type": "code",
   "execution_count": 4,
   "id": "6de6321f-9ad1-4824-8a7b-09eb294313e5",
   "metadata": {},
   "outputs": [
    {
     "name": "stderr",
     "output_type": "stream",
     "text": [
      "C:\\Users\\Rafael\\anaconda3\\envs\\trainer\\Lib\\site-packages\\tqdm\\auto.py:21: TqdmWarning: IProgress not found. Please update jupyter and ipywidgets. See https://ipywidgets.readthedocs.io/en/stable/user_install.html\n",
      "  from .autonotebook import tqdm as notebook_tqdm\n"
     ]
    }
   ],
   "source": [
    "from sentence_transformers import SentenceTransformer\n",
    "import torch\n",
    "\n",
    "device = 'cuda' if torch.cuda.is_available() else 'cpu'\n",
    "\n",
    "retriever = SentenceTransformer(\n",
    "    \"dangvantuan/sentence-camembert-base\",\n",
    "    device=device\n",
    ")"
   ]
  },
  {
   "cell_type": "code",
   "execution_count": 6,
   "id": "fda2b38a-ce8c-439d-a453-6ebd399b2fe2",
   "metadata": {},
   "outputs": [
    {
     "data": {
      "text/plain": [
       "SentenceTransformer(\n",
       "  (0): Transformer({'max_seq_length': 128, 'do_lower_case': False}) with Transformer model: CamembertModel \n",
       "  (1): Pooling({'word_embedding_dimension': 768, 'pooling_mode_cls_token': False, 'pooling_mode_mean_tokens': True, 'pooling_mode_max_tokens': False, 'pooling_mode_mean_sqrt_len_tokens': False, 'pooling_mode_weightedmean_tokens': False, 'pooling_mode_lasttoken': False, 'include_prompt': True})\n",
       ")"
      ]
     },
     "execution_count": 6,
     "metadata": {},
     "output_type": "execute_result"
    }
   ],
   "source": [
    "retriever"
   ]
  },
  {
   "cell_type": "code",
   "execution_count": 8,
   "id": "67658274-6b8a-4013-af8d-66a828400552",
   "metadata": {},
   "outputs": [],
   "source": [
    "from pinecone import Pinecone, ServerlessSpec\n",
    "pc = Pinecone(api_key=\"<<PINECONE API KEY>>\")\n"
   ]
  },
  {
   "cell_type": "code",
   "execution_count": 79,
   "id": "66a6e625-5f6c-45ce-a137-5c69f4fcb13b",
   "metadata": {},
   "outputs": [],
   "source": [
    "index_name = \"traffic-question-answering-2\"\n",
    "\n",
    "#Need to be the same dimension as the output of our sentence transformer\n",
    "if index_name not in pc.list_indexes():\n",
    "    pc.create_index(\n",
    "        index_name,\n",
    "        dimension=768,\n",
    "        metric='dotproduct',\n",
    "        spec=ServerlessSpec(\n",
    "            cloud=\"aws\",\n",
    "            region=\"us-east-1\"\n",
    "        ) \n",
    "    )\n",
    "index = pc.Index(index_name)"
   ]
  },
  {
   "cell_type": "code",
   "execution_count": 80,
   "id": "6c0ddeb4-0aa2-4c74-9ce3-5d455abe6294",
   "metadata": {},
   "outputs": [
    {
     "name": "stderr",
     "output_type": "stream",
     "text": [
      "100%|██████████| 16/16 [00:07<00:00,  2.04it/s]\n"
     ]
    },
    {
     "data": {
      "text/plain": [
       "{'dimension': 768,\n",
       " 'index_fullness': 0.0,\n",
       " 'namespaces': {'': {'vector_count': 416}},\n",
       " 'total_vector_count': 416}"
      ]
     },
     "execution_count": 80,
     "metadata": {},
     "output_type": "execute_result"
    }
   ],
   "source": [
    "\n",
    "from tqdm.auto import tqdm\n",
    "\n",
    "# we will use batches of 1\n",
    "batch_size = 3\n",
    "\n",
    "for i in tqdm(range(0, len(df), batch_size)):\n",
    "    # find end of batch\n",
    "    i_end = min(i+batch_size, len(df))\n",
    "    # extract batch\n",
    "    batch = df.iloc[i:i_end]\n",
    "    # generate embeddings for batch\n",
    "    emb = retriever.encode(batch[\"content\"].tolist()).tolist()\n",
    "    # get metadata\n",
    "    meta = batch.to_dict(orient=\"records\")\n",
    "    # create unique IDs\n",
    "    ids = [f\"{idx}\" for idx in range(i, i_end)]\n",
    "    # add all to upsert list\n",
    "    to_upsert = list(zip(ids, emb, meta))\n",
    "    # upsert/insert these records to pinecone\n",
    "    _ = index.upsert(vectors=to_upsert)\n",
    "\n",
    "# check that we have all vectors in index\n",
    "index.describe_index_stats()"
   ]
  },
  {
   "cell_type": "code",
   "execution_count": 12,
   "id": "b38f0077-a7a2-4f12-b6b0-1477f5c0c463",
   "metadata": {},
   "outputs": [],
   "source": [
    "from transformers import AutoTokenizer, CamembertForQuestionAnswering\n",
    "\n",
    "# load bart tokenizer and model from huggingface\n",
    "tokenizer = AutoTokenizer.from_pretrained('CATIE-AQ/QAmembert')\n",
    "model = CamembertForQuestionAnswering.from_pretrained('CATIE-AQ/QAmembert')"
   ]
  },
  {
   "cell_type": "code",
   "execution_count": 89,
   "id": "7ed324b0-e6d7-48e8-84a1-00f44d1f1c62",
   "metadata": {},
   "outputs": [],
   "source": [
    "def query_pinecone(query, top_k):\n",
    "    # generate embeddings for the query\n",
    "    xq = retriever.encode([query]).tolist()\n",
    "    # search pinecone index for context passage with the answer\n",
    "    xc = index.query(vector=xq, top_k=top_k, include_metadata=True)\n",
    "    return xc\n",
    "\n",
    "def format_query(query, context):\n",
    "    # extract passage_text from Pinecone search result and add the tag\n",
    "    context = [f\" {m['metadata']['content']}\" for m in context]\n",
    "    # concatinate all context passages\n",
    "    context = \" \".join(context)\n",
    "    # contcatinate the query and context passages\n",
    "\n",
    "    return query, context"
   ]
  },
  {
   "cell_type": "code",
   "execution_count": 90,
   "id": "e1d6b6d6-7fbd-48f0-b238-d072652dcbba",
   "metadata": {},
   "outputs": [],
   "source": [
    "from transformers import pipeline\n",
    "\n",
    "#Using pretrained Camembert model for QUestion answering\n",
    "qa_engine = pipeline(\n",
    "    \"question-answering\",\n",
    "    model=\"CATIE-AQ/QAmembert\",\n",
    "    tokenizer=\"CATIE-AQ/QAmembert\"\n",
    ")\n",
    "\n",
    "def generate_answer(query, context):\n",
    "    result = qa_engine(\n",
    "        context=context,\n",
    "        question=query\n",
    "    )\n",
    "    return result"
   ]
  },
  {
   "cell_type": "code",
   "execution_count": 91,
   "id": "5d35ed81-549c-425c-aa16-f59ebc089b1b",
   "metadata": {},
   "outputs": [],
   "source": [
    "query = \"Qui peut suivre un apprentissage en conduite supervisée des véhicules légers ?\"\n",
    "result = query_pinecone(query, top_k=3)\n",
    "\n",
    "#Get related conext from pinecone database\n",
    "query, context = format_query(query, result[\"matches\"])"
   ]
  },
  {
   "cell_type": "code",
   "execution_count": 93,
   "id": "7ffed763-fa83-435e-af0a-125f6bc64c29",
   "metadata": {},
   "outputs": [
    {
     "data": {
      "text/plain": [
       "\"Toute personne âgée d'au moins dix-huit ans\""
      ]
     },
     "execution_count": 93,
     "metadata": {},
     "output_type": "execute_result"
    }
   ],
   "source": [
    "generate_answer(query, context)['answer']"
   ]
  }
 ],
 "metadata": {
  "kernelspec": {
   "display_name": "Python 3 (ipykernel)",
   "language": "python",
   "name": "python3"
  },
  "language_info": {
   "codemirror_mode": {
    "name": "ipython",
    "version": 3
   },
   "file_extension": ".py",
   "mimetype": "text/x-python",
   "name": "python",
   "nbconvert_exporter": "python",
   "pygments_lexer": "ipython3",
   "version": "3.11.9"
  }
 },
 "nbformat": 4,
 "nbformat_minor": 5
}
